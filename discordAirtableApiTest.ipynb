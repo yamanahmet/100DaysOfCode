##
from pyairtable import Api, Base, Table

api = Api('keyTRu7XDdf9Ky5Q0')
api.all('appZg83GywzAAXvlu', 'Contacts')

base = Base('keyTRu7XDdf9Ky5Q0', 'appZg83GywzAAXvlu')
base.all('Contacts')

table = Table('keyTRu7XDdf9Ky5Q0', 'appZg83GywzAAXvlu', 'Contacts')
table.all()
##

from pyairtable.formulas import match
formula = match({"Phone Number": "136-130-4036"})
table.all(formula=formula)

##
table.update('rec0PV4pfANoIjocD', {"Email": "a@gmail.com"})

##
formula = match({"Phone Number": "136-130-4036"})
table.all(formula = formula)

##
print(table.first(fields = "Email" ))
